{
 "cells": [
  {
   "cell_type": "code",
   "execution_count": 12,
   "metadata": {},
   "outputs": [
    {
     "name": "stdout",
     "output_type": "stream",
     "text": [
      "Defaulting to user installation because normal site-packages is not writeable\n",
      "Requirement already satisfied: pyttsx3 in c:\\users\\pranay kumar jha\\appdata\\roaming\\python\\python313\\site-packages (2.98)\n",
      "Requirement already satisfied: comtypes in c:\\users\\pranay kumar jha\\appdata\\roaming\\python\\python313\\site-packages (from pyttsx3) (1.4.8)\n",
      "Requirement already satisfied: pypiwin32 in c:\\users\\pranay kumar jha\\appdata\\roaming\\python\\python313\\site-packages (from pyttsx3) (223)\n",
      "Requirement already satisfied: pywin32 in c:\\users\\pranay kumar jha\\appdata\\roaming\\python\\python313\\site-packages (from pyttsx3) (308)\n",
      "Note: you may need to restart the kernel to use updated packages.\n"
     ]
    }
   ],
   "source": [
    "pip install pyttsx3\n"
   ]
  },
  {
   "cell_type": "code",
   "execution_count": null,
   "metadata": {},
   "outputs": [
    {
     "name": "stdout",
     "output_type": "stream",
     "text": [
      "Welcome to RoboSpeaker\n"
     ]
    }
   ],
   "source": [
    "import pyttsx3\n",
    "\n",
    "if __name__ == '__main__':\n",
    "    print(\"Welcome to RoboSpeaker\")\n",
    "    engine = pyttsx3.init()\n",
    "\n",
    "    while True:\n",
    "        x = input(\"Enter what you want to speak (type 'q' to quit): \")\n",
    "        if x.lower() == \"q\":\n",
    "            print(\"Exiting RoboSpeaker. Goodbye!\")\n",
    "            break \n",
    "        engine.say(x)\n",
    "        engine.runAndWait()\n"
   ]
  }
 ],
 "metadata": {
  "kernelspec": {
   "display_name": "Python 3",
   "language": "python",
   "name": "python3"
  },
  "language_info": {
   "codemirror_mode": {
    "name": "ipython",
    "version": 3
   },
   "file_extension": ".py",
   "mimetype": "text/x-python",
   "name": "python",
   "nbconvert_exporter": "python",
   "pygments_lexer": "ipython3",
   "version": "3.13.1"
  }
 },
 "nbformat": 4,
 "nbformat_minor": 2
}
